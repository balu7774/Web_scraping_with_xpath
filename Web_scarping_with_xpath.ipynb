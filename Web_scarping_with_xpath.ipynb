{
 "cells": [
  {
   "cell_type": "markdown",
   "metadata": {},
   "source": [
    "# Web Scraping using xpath"
   ]
  },
  {
   "cell_type": "code",
   "execution_count": 169,
   "metadata": {},
   "outputs": [],
   "source": [
    "# Importing The Required modules\n",
    "from bs4 import BeautifulSoup as soup\n",
    "from urllib.request import urlopen as uReq\n",
    "import requests\n",
    "from fake_useragent import UserAgent\n",
    "import lxml"
   ]
  },
  {
   "cell_type": "code",
   "execution_count": 109,
   "metadata": {},
   "outputs": [],
   "source": [
    "## initializing the UserAgent object\n",
    "user_agent = UserAgent()\n",
    "\n",
    "# The Website is blocking the user for multiple/ longer requests so we used html intead of website\n",
    "FILE = r\"C:\\Users\\balu\\Desktop\\page\\EEPROM _ Mouser India.html\"   "
   ]
  },
  {
   "cell_type": "code",
   "execution_count": 110,
   "metadata": {},
   "outputs": [],
   "source": [
    "# Reading html file \n",
    "with open(FILE,'r') as fp:    \n",
    "    txt=fp.readlines()"
   ]
  },
  {
   "cell_type": "code",
   "execution_count": 114,
   "metadata": {},
   "outputs": [
    {
     "name": "stdout",
     "output_type": "stream",
     "text": [
      "<!DOCTYPE html>\n",
      "\n",
      "<!-- saved from url=(0064)https://www.mouser.in/Semiconductors/Memory-ICs/EEPROM/_/N-488u2 -->\n",
      "\n"
     ]
    }
   ],
   "source": [
    "print(txt[0])   # html is appended to txt as list\n",
    "print(txt[1])"
   ]
  },
  {
   "cell_type": "code",
   "execution_count": 115,
   "metadata": {},
   "outputs": [],
   "source": [
    " #converting/ joining each element of the list into string format \n",
    "txt1=\"\".join(txt) "
   ]
  },
  {
   "cell_type": "code",
   "execution_count": 208,
   "metadata": {},
   "outputs": [
    {
     "data": {
      "text/plain": [
       "str"
      ]
     },
     "execution_count": 208,
     "metadata": {},
     "output_type": "execute_result"
    }
   ],
   "source": [
    "type(txt1)"
   ]
  },
  {
   "cell_type": "code",
   "execution_count": 205,
   "metadata": {},
   "outputs": [],
   "source": [
    "#parsing the page data into tree\n",
    "tree=lxml.html.fromstring(txt1)   "
   ]
  },
  {
   "cell_type": "code",
   "execution_count": 210,
   "metadata": {},
   "outputs": [
    {
     "data": {
      "text/plain": [
       "'511-M95M04-DRMN6TP'"
      ]
     },
     "execution_count": 210,
     "metadata": {},
     "output_type": "execute_result"
    }
   ],
   "source": [
    "#checking xpath for mosuer number in the website\n",
    "#tree.xpath(\"//*[@id='SearchResultsGrid_grid']/tbody/tr[*]/td[3]/div[2]/label\")\n",
    "tree.xpath(\"//*[@id='SearchResultsGrid_grid']/tbody/tr[*]/td[3]/div[2]/label\")[0].text_content()\n"
   ]
  },
  {
   "cell_type": "code",
   "execution_count": 199,
   "metadata": {},
   "outputs": [],
   "source": [
    "#Creating loop to save the required content from the website using xpath\n",
    "\n",
    "mousers=[]\n",
    "mfrs_no=[]\n",
    "mfrs=[]\n",
    "descriptions=[]\n",
    "for i in range(1,25):\n",
    "    mfr_no=tree.xpath(\"//*[@id='lnkMfrPartNumber_\"+str(i)+\"']\")[0]\n",
    "    mfr=tree.xpath(\"//*[@id='lnkSupplierPage_\"+str(i)+\"']\")[0]\n",
    "    mouser_no=tree.xpath(\"//*[@id='SearchResultsGrid_grid']/tbody/tr[\"+str(i)+\"]/td[3]/div[2]/label\")[0]\n",
    "    description= tree.xpath(\"//*[@id='SearchResultsGrid_grid']/tbody/tr[\"+str(i)+\"]/td[5]/span\")[0]\n",
    "    #print(mouser_no.text_content())     \n",
    "    mousers.append(mouser_no.text_content())\n",
    "    mfrs_no.append(mfr_no.text_content())\n",
    "    mfrs.append(mfr.text_content())\n",
    "    descriptions.append(description.text_content())"
   ]
  },
  {
   "cell_type": "code",
   "execution_count": 201,
   "metadata": {},
   "outputs": [
    {
     "data": {
      "text/plain": [
       "['M95M04-DRMN6TP',\n",
       " 'M95M04-DRDW6TP',\n",
       " 'AT24C01C-XPD-T',\n",
       " 'M24128-BFMN6TP',\n",
       " 'NV24C04MUW3VLTBG',\n",
       " 'CAT93C46BYI-GT3',\n",
       " 'AT34C02D-MAHM-E',\n",
       " 'NV25040DWHFT3G',\n",
       " 'NV25160DWHFT3G',\n",
       " 'DS28EC20Q+T',\n",
       " '24CW1280T-I/OT',\n",
       " 'AT24CM02-SSHD-B',\n",
       " 'AT24CM02-SSHM-B',\n",
       " 'AT24CM02-SSHM-T',\n",
       " 'AT24CM02-SSHD-T',\n",
       " 'AT24C256C-MAHL-E',\n",
       " 'AT24C02D-MAHM-E',\n",
       " 'AT24C512C-MAHM-E',\n",
       " 'AT24C512C-SHM-T',\n",
       " 'AT24C04D-MAHM-E',\n",
       " 'AT93C46DY6-YH-E',\n",
       " '24CW1280T-I/CS0668',\n",
       " 'NV25640DWHFT3G',\n",
       " '24CW1280T-I/MUY']"
      ]
     },
     "execution_count": 201,
     "metadata": {},
     "output_type": "execute_result"
    }
   ],
   "source": [
    "mfrs_no"
   ]
  },
  {
   "cell_type": "code",
   "execution_count": 203,
   "metadata": {},
   "outputs": [
    {
     "data": {
      "text/html": [
       "<div>\n",
       "<style scoped>\n",
       "    .dataframe tbody tr th:only-of-type {\n",
       "        vertical-align: middle;\n",
       "    }\n",
       "\n",
       "    .dataframe tbody tr th {\n",
       "        vertical-align: top;\n",
       "    }\n",
       "\n",
       "    .dataframe thead th {\n",
       "        text-align: right;\n",
       "    }\n",
       "</style>\n",
       "<table border=\"1\" class=\"dataframe\">\n",
       "  <thead>\n",
       "    <tr style=\"text-align: right;\">\n",
       "      <th></th>\n",
       "      <th>Mfr_Part_No</th>\n",
       "      <th>Mouser_Part_No</th>\n",
       "      <th>Manufacturer</th>\n",
       "      <th>Description</th>\n",
       "    </tr>\n",
       "  </thead>\n",
       "  <tbody>\n",
       "    <tr>\n",
       "      <th>0</th>\n",
       "      <td>M95M04-DRMN6TP</td>\n",
       "      <td>511-M95M04-DRMN6TP</td>\n",
       "      <td>STMicroelectronics</td>\n",
       "      <td>EEPROM MEMORY</td>\n",
       "    </tr>\n",
       "    <tr>\n",
       "      <th>1</th>\n",
       "      <td>M95M04-DRDW6TP</td>\n",
       "      <td>511-M95M04-DRDW6TP</td>\n",
       "      <td>STMicroelectronics</td>\n",
       "      <td>EEPROM MEMORY</td>\n",
       "    </tr>\n",
       "    <tr>\n",
       "      <th>2</th>\n",
       "      <td>AT24C01C-XPD-T</td>\n",
       "      <td>579-AT24C01C-XPD-T</td>\n",
       "      <td>Microchip Technology</td>\n",
       "      <td>EEPROM 400kHz, Auto Temp, 8-TSSOP</td>\n",
       "    </tr>\n",
       "    <tr>\n",
       "      <th>3</th>\n",
       "      <td>M24128-BFMN6TP</td>\n",
       "      <td>511-M24128-BFMN6TP</td>\n",
       "      <td>STMicroelectronics</td>\n",
       "      <td>EEPROM MEMORY</td>\n",
       "    </tr>\n",
       "    <tr>\n",
       "      <th>4</th>\n",
       "      <td>NV24C04MUW3VLTBG</td>\n",
       "      <td>863-NV24C04MUW3VLTBG</td>\n",
       "      <td>ON Semiconductor</td>\n",
       "      <td>EEPROM 4KB I2C SER EEPROM UDFN WETTABLE FLANKS...</td>\n",
       "    </tr>\n",
       "  </tbody>\n",
       "</table>\n",
       "</div>"
      ],
      "text/plain": [
       "        Mfr_Part_No        Mouser_Part_No          Manufacturer  \\\n",
       "0    M95M04-DRMN6TP    511-M95M04-DRMN6TP    STMicroelectronics   \n",
       "1    M95M04-DRDW6TP    511-M95M04-DRDW6TP    STMicroelectronics   \n",
       "2    AT24C01C-XPD-T    579-AT24C01C-XPD-T  Microchip Technology   \n",
       "3    M24128-BFMN6TP    511-M24128-BFMN6TP    STMicroelectronics   \n",
       "4  NV24C04MUW3VLTBG  863-NV24C04MUW3VLTBG      ON Semiconductor   \n",
       "\n",
       "                                         Description  \n",
       "0                                      EEPROM MEMORY  \n",
       "1                                      EEPROM MEMORY  \n",
       "2                  EEPROM 400kHz, Auto Temp, 8-TSSOP  \n",
       "3                                      EEPROM MEMORY  \n",
       "4  EEPROM 4KB I2C SER EEPROM UDFN WETTABLE FLANKS...  "
      ]
     },
     "execution_count": 203,
     "metadata": {},
     "output_type": "execute_result"
    }
   ],
   "source": [
    "#Creating the  dataframe with labels\n",
    "df = pd.DataFrame({'Mfr_Part_No':mfrs_no, 'Mouser_Part_No':mousers, 'Manufacturer':mfrs,'Description':descriptions})\n",
    "df.head()"
   ]
  },
  {
   "cell_type": "code",
   "execution_count": 204,
   "metadata": {},
   "outputs": [],
   "source": [
    "dt=df.to_csv('EPROMS.csv')"
   ]
  }
 ],
 "metadata": {
  "kernelspec": {
   "display_name": "Python 3",
   "language": "python",
   "name": "python3"
  },
  "language_info": {
   "codemirror_mode": {
    "name": "ipython",
    "version": 3
   },
   "file_extension": ".py",
   "mimetype": "text/x-python",
   "name": "python",
   "nbconvert_exporter": "python",
   "pygments_lexer": "ipython3",
   "version": "3.7.6"
  }
 },
 "nbformat": 4,
 "nbformat_minor": 4
}
